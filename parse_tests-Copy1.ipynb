{
 "cells": [
  {
   "cell_type": "code",
   "execution_count": 1,
   "metadata": {
    "collapsed": false
   },
   "outputs": [],
   "source": [
    "import numpy as np\n",
    "\n",
    "e = \"temp.c,3 humidity,2 co2.ppm,2 voc.ppm,1\"\n",
    "d = \"Manifold_hot:20.2224 Manifold_cold1:18.1245 Manifold_cold2:17.1234 5':83 10':72 5':221 10':268 voc:50\"\n",
    "\n",
    "key = e.split()\n",
    "values = d.split()\n",
    "\n",
    "h = ['value','label','event','units']\n",
    "\n",
    "def j():\n",
    "    json_body = [\n",
    "            {\n",
    "                \"measurement\": measure,\n",
    "                \"tags\": {\n",
    "                    \"label\": var,\n",
    "                    \"location\": location,\n",
    "                    \"name\": name\n",
    "                },\n",
    "                \"time\": curr_time,\n",
    "                \"fields\": {\n",
    "                    \"value\": val\n",
    "                }\n",
    "            }\n",
    "        ]\n",
    "    return json_body"
   ]
  },
  {
   "cell_type": "code",
   "execution_count": 2,
   "metadata": {
    "collapsed": false
   },
   "outputs": [],
   "source": [
    "# will pass the event and the data\n",
    "def interpret_result(key,values):\n",
    "    _x = np.empty([len(values),len(h)], dtype='S128')\n",
    "    _x[:,0] = np.array(values)\n",
    "\n",
    "    return _x"
   ]
  },
  {
   "cell_type": "code",
   "execution_count": 3,
   "metadata": {
    "collapsed": false
   },
   "outputs": [],
   "source": [
    "# Returns a subset of a column of strings\n",
    "# split(x[:,0], \":\", 0)\n",
    "def split_col(array, in_column, delim, result_index=1):\n",
    "    y = []\n",
    "    for i in array[:, in_column]:\n",
    "        y.append(i.split(delim)[result_index])\n",
    "    return y"
   ]
  },
  {
   "cell_type": "code",
   "execution_count": 6,
   "metadata": {
    "collapsed": true
   },
   "outputs": [],
   "source": [
    "def gen_units(arr):\n",
    "\n",
    "    new_arr = np.empty([len(arr),0])\n",
    "    return new_arr"
   ]
  },
  {
   "cell_type": "code",
   "execution_count": 16,
   "metadata": {
    "collapsed": false
   },
   "outputs": [],
   "source": [
    "def interpret_values(key, values):\n",
    "    z = np.array(values, dtype=\"a128\").reshape([len(values),1])\n",
    "    z = np.append(z, np.array(split_col(z, 0, \":\")).reshape([len(z),1]), axis=1 )\n",
    "    z[:,0] = np.array(split_col(z, 0, \":\", 0))\n",
    "    return z"
   ]
  },
  {
   "cell_type": "code",
   "execution_count": 22,
   "metadata": {
    "collapsed": false
   },
   "outputs": [],
   "source": [
    "def gen_key_arr(key, values):\n",
    "    _l = []\n",
    "    for _k in key:\n",
    "        _l.append(_k.split(\",\"))\n",
    "        _n = np.array(_l)\n",
    "    \n",
    "    new_arr = np.empty([0,2], dtype=\"S32\")\n",
    "    \n",
    "    for counter, r in enumerate(_n):\n",
    "        new_arr = np.append(new_arr, np.repeat([_n[counter]], int(_n[counter,1]), axis=0), axis=0)\n",
    "    return new_arr"
   ]
  },
  {
   "cell_type": "code",
   "execution_count": 23,
   "metadata": {
    "collapsed": false
   },
   "outputs": [],
   "source": [
    "# %timeit np.append(interpret_values(key, values), gen_key_arr(key, values), axis=1)"
   ]
  },
  {
   "cell_type": "code",
   "execution_count": 98,
   "metadata": {
    "collapsed": false
   },
   "outputs": [
    {
     "data": {
      "text/plain": [
       "array([['Manifold_hot', '20.2224', 'temp.c', '3'],\n",
       "       ['Manifold_cold1', '18.1245', 'temp.c', '3'],\n",
       "       ['Manifold_cold2', '17.1234', 'temp.c', '3'],\n",
       "       [\"5'\", '83', 'humidity', '2'],\n",
       "       [\"10'\", '72', 'humidity', '2'],\n",
       "       [\"5'\", '221', 'co2.ppm', '2'],\n",
       "       [\"10'\", '268', 'co2.ppm', '2'],\n",
       "       ['voc', '50', 'voc.ppm', '1']], \n",
       "      dtype='|S128')"
      ]
     },
     "execution_count": 98,
     "metadata": {},
     "output_type": "execute_result"
    }
   ],
   "source": [
    "v = np.append(interpret_values(key, values), gen_key_arr(key, values), axis=1)\n",
    "v"
   ]
  },
  {
   "cell_type": "code",
   "execution_count": 99,
   "metadata": {
    "collapsed": false
   },
   "outputs": [],
   "source": [
    "# Returns cleaned EVENT column, UNIT column\n",
    "def parse_events(arr):\n",
    "    # these will hold our lists\n",
    "    events = []\n",
    "    units = []\n",
    "    \n",
    "    for i in arr[:,2:4][:,0]:\n",
    "        _s = i.split(\".\")\n",
    "        \n",
    "        # add events\n",
    "        try: \n",
    "            events.append(_s[0])\n",
    "        except:\n",
    "            event.append(\"error\")\n",
    "        \n",
    "        # add units (if possible)\n",
    "        try: \n",
    "            units.append(_s[1])\n",
    "        except:\n",
    "            units.append(\"None\")\n",
    "    \n",
    "    events = np.array(events)\n",
    "    units = np.array(units)\n",
    "    return events, units\n",
    "\n",
    "event_col = parse_events(v)[0]\n",
    "unit_col = parse_events(v)[1]"
   ]
  },
  {
   "cell_type": "code",
   "execution_count": 101,
   "metadata": {
    "collapsed": false
   },
   "outputs": [],
   "source": [
    "v[:,2] = event_col\n",
    "v[:,3] = unit_col"
   ]
  },
  {
   "cell_type": "code",
   "execution_count": 102,
   "metadata": {
    "collapsed": false
   },
   "outputs": [
    {
     "data": {
      "text/plain": [
       "array([['Manifold_hot', '20.2224', 'temp', 'c'],\n",
       "       ['Manifold_cold1', '18.1245', 'temp', 'c'],\n",
       "       ['Manifold_cold2', '17.1234', 'temp', 'c'],\n",
       "       [\"5'\", '83', 'humidity', 'None'],\n",
       "       [\"10'\", '72', 'humidity', 'None'],\n",
       "       [\"5'\", '221', 'co2', 'ppm'],\n",
       "       [\"10'\", '268', 'co2', 'ppm'],\n",
       "       ['voc', '50', 'voc', 'ppm']], \n",
       "      dtype='|S128')"
      ]
     },
     "execution_count": 102,
     "metadata": {},
     "output_type": "execute_result"
    }
   ],
   "source": [
    "v"
   ]
  },
  {
   "cell_type": "code",
   "execution_count": 104,
   "metadata": {
    "collapsed": true
   },
   "outputs": [],
   "source": [
    "#### Correct output! "
   ]
  }
 ],
 "metadata": {
  "kernelspec": {
   "display_name": "Python 2",
   "language": "python",
   "name": "python2"
  },
  "language_info": {
   "codemirror_mode": {
    "name": "ipython",
    "version": 2
   },
   "file_extension": ".py",
   "mimetype": "text/x-python",
   "name": "python",
   "nbconvert_exporter": "python",
   "pygments_lexer": "ipython2",
   "version": "2.7.13"
  }
 },
 "nbformat": 4,
 "nbformat_minor": 2
}
