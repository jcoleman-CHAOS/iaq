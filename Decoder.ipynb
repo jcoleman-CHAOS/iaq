{
 "cells": [
  {
   "cell_type": "code",
   "execution_count": 1,
   "metadata": {
    "collapsed": false
   },
   "outputs": [],
   "source": [
    "import numpy as np\n",
    "\n",
    "e = \"temp.c,3 humidity,2 co2.ppm,2 voc.ppm,1\"\n",
    "d = \"Manifold_hot:20.2224 Manifold_cold1:18.1245 Manifold_cold2:17.1234 5':83 10':72 5':221 10':268 voc:50\"\n",
    "\n",
    "def one_fell_swoop(e,d):\n",
    "    # Split the event and data from Particle SSEClient\n",
    "    key = e.split()\n",
    "    _values = d.split()\n",
    "    \n",
    "    \n",
    "    # Return's results of a split as two np.array columns\n",
    "    def split_col(input_column, delim, return_one_array=False):\n",
    "        # these will hold our lists\n",
    "        col_1 = []\n",
    "        col_2 = []\n",
    "\n",
    "        for i in input_column:\n",
    "            _s = i.split(delim)\n",
    "\n",
    "            # add events\n",
    "            try: \n",
    "                col_1.append(_s[0])\n",
    "            except:\n",
    "                col_1.append(\"error\")\n",
    "\n",
    "            # add units (if possible)\n",
    "            try: \n",
    "                col_2.append(_s[1])\n",
    "            except:\n",
    "                col_2.append(\"None\")\n",
    "\n",
    "        col_1 = np.array(col_1).reshape([len(col_1),1])\n",
    "        col_2 = np.array(col_2).reshape([len(col_2),1])\n",
    "        \n",
    "        if return_one_array:\n",
    "            return append_cols(col_1,col_2,0)\n",
    "        else:    \n",
    "            return col_1, col_2\n",
    "\n",
    "    \n",
    "    # create a row for each value received\n",
    "    def interpret_values(key, values):\n",
    "        z = np.array(values, dtype=\"a128\").reshape([len(values),1])\n",
    "        z = np.append(z, np.array(split_col(z, 0, \":\")).reshape([len(z),1]), axis=1 )\n",
    "        z[:,0] = np.array(split_col(z, 0, \":\", 0))\n",
    "        return z\n",
    "    \n",
    "    \n",
    "    # Append two columns\n",
    "    def append_cols(a,b,axis=1):\n",
    "        if a.shape != (len(_values),1):\n",
    "            a.reshape([len(a),1])\n",
    "        b.reshape([len(b),1])\n",
    "        return np.append(a,b,1)\n",
    "    \n",
    "    \n",
    "    # Expand Key\n",
    "    def expand_keys(key_arr):\n",
    "        new_arr = np.empty([0,key_arr.shape[1]])\n",
    "        for counter, r in enumerate(key_arr):\n",
    "            new_arr = np.append(new_arr, np.repeat([key_arr[counter]], int(r[1]), axis=0), axis=0)\n",
    "        return new_arr\n",
    "    \n",
    "    \n",
    "    # Returns cleaned EVENT column, UNIT column\n",
    "    def parse_events(key, return_one_array=False):        \n",
    "        _s = split_col(key, ',')\n",
    "        \n",
    "        # these will hold our lists\n",
    "        events = np.array(_s[0]).reshape([len(key),1])\n",
    "        units = np.array(_s[1]).reshape([len(key),1])\n",
    "        \n",
    "        if return_one_array:\n",
    "            return append_cols(events,units,0)\n",
    "        else:    \n",
    "            return events, units\n",
    "        \n",
    "    # Move units if one exists    \n",
    "    def correct_units(events):\n",
    "        return split_col(events[:,0], \".\",True)\n",
    "        \n",
    "    \n",
    "    split_values = split_col(_values, \":\")\n",
    "    labels = split_values[0].reshape([len(_values),1])\n",
    "    data = split_values[1].reshape([len(_values),1])\n",
    "    events = expand_keys(parse_events(key, True))\n",
    "    events = correct_units(events)\n",
    "    \n",
    "    complete_arr = np.append(labels,data,1)\n",
    "    complete_arr = np.append(complete_arr,events,1)\n",
    "    \n",
    "    return complete_arr"
   ]
  },
  {
   "cell_type": "code",
   "execution_count": 2,
   "metadata": {
    "collapsed": false
   },
   "outputs": [
    {
     "data": {
      "text/plain": [
       "array([['Manifold_hot', '20.2224', 'temp', 'c'],\n",
       "       ['Manifold_cold1', '18.1245', 'temp', 'c'],\n",
       "       ['Manifold_cold2', '17.1234', 'temp', 'c'],\n",
       "       [\"5'\", '83', 'humidity', 'None'],\n",
       "       [\"10'\", '72', 'humidity', 'None'],\n",
       "       [\"5'\", '221', 'co2', 'ppm'],\n",
       "       [\"10'\", '268', 'co2', 'ppm'],\n",
       "       ['voc', '50', 'voc', 'ppm']], \n",
       "      dtype='|S14')"
      ]
     },
     "execution_count": 2,
     "metadata": {},
     "output_type": "execute_result"
    }
   ],
   "source": [
    "one_fell_swoop(e,d)"
   ]
  },
  {
   "cell_type": "code",
   "execution_count": 3,
   "metadata": {
    "collapsed": false
   },
   "outputs": [
    {
     "name": "stdout",
     "output_type": "stream",
     "text": [
      "The slowest run took 4.74 times longer than the fastest. This could mean that an intermediate result is being cached.\n",
      "10000 loops, best of 3: 140 µs per loop\n"
     ]
    }
   ],
   "source": [
    "%timeit one_fell_swoop(e,d)"
   ]
  }
 ],
 "metadata": {
  "kernelspec": {
   "display_name": "Python 2",
   "language": "python",
   "name": "python2"
  },
  "language_info": {
   "codemirror_mode": {
    "name": "ipython",
    "version": 2
   },
   "file_extension": ".py",
   "mimetype": "text/x-python",
   "name": "python",
   "nbconvert_exporter": "python",
   "pygments_lexer": "ipython2",
   "version": "2.7.13"
  }
 },
 "nbformat": 4,
 "nbformat_minor": 2
}
