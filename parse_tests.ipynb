{
 "cells": [
  {
   "cell_type": "code",
   "execution_count": 1,
   "metadata": {
    "collapsed": false
   },
   "outputs": [],
   "source": [
    "import numpy as np\n",
    "\n",
    "e = \"temp.c,3 humidity,2 co2.ppm,2 voc.ppm,1\"\n",
    "d = \"Manifold_hot:20.2224 Manifold_cold1:18.1245 Manifold_cold2:17.1234 5':83 10':72 5':221 10':268 voc:50\"\n",
    "\n",
    "h = ['value','label','event','units']\n",
    "\n",
    "def j():\n",
    "    json_body = [\n",
    "            {\n",
    "                \"measurement\": measure,\n",
    "                \"tags\": {\n",
    "                    \"label\": var,\n",
    "                    \"location\": location,\n",
    "                    \"name\": name\n",
    "                },\n",
    "                \"time\": curr_time,\n",
    "                \"fields\": {\n",
    "                    \"value\": val\n",
    "                }\n",
    "            }\n",
    "        ]\n",
    "    return json_body"
   ]
  },
  {
   "cell_type": "code",
   "execution_count": 2,
   "metadata": {
    "collapsed": false
   },
   "outputs": [
    {
     "name": "stdout",
     "output_type": "stream",
     "text": [
      "['temp.c,3', 'humidity,2', 'co2.ppm,2', 'voc.ppm,1']\n",
      "['Manifold_hot:20.2224', 'Manifold_cold1:18.1245', 'Manifold_cold2:17.1234', \"5':83\", \"10':72\", \"5':221\", \"10':268\", 'voc:50']\n"
     ]
    }
   ],
   "source": [
    "key = e.split()\n",
    "values = d.split()\n",
    "print key\n",
    "print values"
   ]
  },
  {
   "cell_type": "code",
   "execution_count": 3,
   "metadata": {
    "collapsed": false
   },
   "outputs": [],
   "source": [
    "x = None\n",
    "\n",
    "def _split(s):\n",
    "#     return s.split(\":\")\n",
    "    print s\n",
    "\n",
    "# will pass the event and the data\n",
    "def interpret_result(key,values):\n",
    "    # instantiate a blank array\n",
    "        # [num_rows=num_values, num_columns=len(header), dtype='object']\n",
    "    _x = np.empty([len(values),len(h)], dtype='S128')\n",
    "    _x[:,0] = np.array(values)\n",
    "#     _x[:,0] = x[:,0][0].split(\":\")\n",
    "            \n",
    "    \n",
    "    return _x\n",
    "\n",
    "x = interpret_result(key,values)\n"
   ]
  },
  {
   "cell_type": "code",
   "execution_count": 4,
   "metadata": {
    "collapsed": false
   },
   "outputs": [
    {
     "name": "stdout",
     "output_type": "stream",
     "text": [
      "20.2224\n"
     ]
    }
   ],
   "source": [
    "print (x[:,0][0]).split(\":\")[1]"
   ]
  },
  {
   "cell_type": "code",
   "execution_count": 5,
   "metadata": {
    "collapsed": false
   },
   "outputs": [
    {
     "data": {
      "text/plain": [
       "(8, 4)"
      ]
     },
     "execution_count": 5,
     "metadata": {},
     "output_type": "execute_result"
    }
   ],
   "source": [
    "x.shape"
   ]
  },
  {
   "cell_type": "code",
   "execution_count": 6,
   "metadata": {
    "collapsed": false
   },
   "outputs": [],
   "source": [
    "# Returns a subset of a column of strings\n",
    "# split(x[:,0], \":\", 0)\n",
    "\n",
    "def split_col(array, in_column, delim, result_index=1):\n",
    "    y = []\n",
    "    for i in array[:, in_column]:\n",
    "        y.append(i.split(delim)[result_index])\n",
    "    return y"
   ]
  },
  {
   "cell_type": "code",
   "execution_count": 7,
   "metadata": {
    "collapsed": false
   },
   "outputs": [],
   "source": [
    "x[:,1] = split_col(x, 0,\":\") # assign correct column 1 (zero indexed)"
   ]
  },
  {
   "cell_type": "code",
   "execution_count": 8,
   "metadata": {
    "collapsed": false
   },
   "outputs": [
    {
     "data": {
      "text/plain": [
       "array([['Manifold_hot:20.2224', '20.2224'],\n",
       "       ['Manifold_cold1:18.1245', '18.1245'],\n",
       "       ['Manifold_cold2:17.1234', '17.1234'],\n",
       "       [\"5':83\", '83'],\n",
       "       [\"10':72\", '72'],\n",
       "       [\"5':221\", '221'],\n",
       "       [\"10':268\", '268'],\n",
       "       ['voc:50', '50']], \n",
       "      dtype='|S128')"
      ]
     },
     "execution_count": 8,
     "metadata": {},
     "output_type": "execute_result"
    }
   ],
   "source": [
    "x[:,:2]"
   ]
  },
  {
   "cell_type": "code",
   "execution_count": 9,
   "metadata": {
    "collapsed": true
   },
   "outputs": [],
   "source": [
    "x[:,1] = split_col(x, 0,\":\") # assign correct column 1 (zero indexed)\n",
    "\n",
    "x[:,0] = split_col(x, 0,\":\", result_index=0)"
   ]
  },
  {
   "cell_type": "code",
   "execution_count": 10,
   "metadata": {
    "collapsed": false
   },
   "outputs": [
    {
     "data": {
      "text/plain": [
       "array([['Manifold_hot', '20.2224'],\n",
       "       ['Manifold_cold1', '18.1245'],\n",
       "       ['Manifold_cold2', '17.1234'],\n",
       "       [\"5'\", '83'],\n",
       "       [\"10'\", '72'],\n",
       "       [\"5'\", '221'],\n",
       "       [\"10'\", '268'],\n",
       "       ['voc', '50']], \n",
       "      dtype='|S128')"
      ]
     },
     "execution_count": 10,
     "metadata": {},
     "output_type": "execute_result"
    }
   ],
   "source": [
    "x[:,:2]"
   ]
  },
  {
   "cell_type": "code",
   "execution_count": 11,
   "metadata": {
    "collapsed": false
   },
   "outputs": [
    {
     "name": "stdout",
     "output_type": "stream",
     "text": [
      "\n"
     ]
    },
    {
     "data": {
      "text/plain": [
       "array([], shape=(2, 0), dtype=float64)"
      ]
     },
     "execution_count": 11,
     "metadata": {},
     "output_type": "execute_result"
    }
   ],
   "source": [
    "def generate_meta_arr():\n",
    "    print \n",
    "    return np.array([[],[]])\n",
    "\n",
    "generate_meta_arr()"
   ]
  },
  {
   "cell_type": "code",
   "execution_count": 12,
   "metadata": {
    "collapsed": false
   },
   "outputs": [
    {
     "data": {
      "text/plain": [
       "(4, 2)"
      ]
     },
     "execution_count": 12,
     "metadata": {},
     "output_type": "execute_result"
    }
   ],
   "source": [
    "l = []\n",
    "for k in key:\n",
    "    l.append(k.split(\",\"))\n",
    "\n",
    "n = np.array(l)\n",
    "n.shape"
   ]
  },
  {
   "cell_type": "code",
   "execution_count": 13,
   "metadata": {
    "collapsed": false
   },
   "outputs": [
    {
     "name": "stdout",
     "output_type": "stream",
     "text": [
      "['temp.c' '3']\n",
      "['humidity' '2']\n",
      "['co2.ppm' '2']\n",
      "['voc.ppm' '1']\n"
     ]
    }
   ],
   "source": [
    "for i in n:\n",
    "    print i"
   ]
  },
  {
   "cell_type": "code",
   "execution_count": 14,
   "metadata": {
    "collapsed": false
   },
   "outputs": [
    {
     "name": "stdout",
     "output_type": "stream",
     "text": [
      "[['temp.c' '3']\n",
      " ['humidity' '2']\n",
      " ['co2.ppm' '2']\n",
      " ['voc.ppm' '1']]\n"
     ]
    }
   ],
   "source": [
    "print n"
   ]
  },
  {
   "cell_type": "code",
   "execution_count": 15,
   "metadata": {
    "collapsed": true
   },
   "outputs": [],
   "source": [
    "def gen_units(arr):\n",
    "\n",
    "    new_arr = np.empty([len(arr),0])\n",
    "    return new_arr"
   ]
  },
  {
   "cell_type": "code",
   "execution_count": 16,
   "metadata": {
    "collapsed": false
   },
   "outputs": [
    {
     "data": {
      "text/plain": [
       "8"
      ]
     },
     "execution_count": 16,
     "metadata": {},
     "output_type": "execute_result"
    }
   ],
   "source": [
    "np.sum(n[:,1].astype(int)) # get total length of array"
   ]
  },
  {
   "cell_type": "code",
   "execution_count": 17,
   "metadata": {
    "collapsed": false
   },
   "outputs": [
    {
     "name": "stdout",
     "output_type": "stream",
     "text": [
      "['temp.c' '3']\n",
      "['humidity' '2']\n",
      "['co2.ppm' '2']\n",
      "['voc.ppm' '1']\n"
     ]
    }
   ],
   "source": [
    "np.empty([len(values), 1])\n",
    "\n",
    "for r in n:\n",
    "    if r[1] > 0:\n",
    "        print r\n"
   ]
  },
  {
   "cell_type": "code",
   "execution_count": 18,
   "metadata": {
    "collapsed": false
   },
   "outputs": [
    {
     "name": "stdout",
     "output_type": "stream",
     "text": [
      "[['temp.c' '3']\n",
      " ['temp.c' '3']\n",
      " ['temp.c' '3']\n",
      " ['humidity' '2']\n",
      " ['humidity' '2']\n",
      " ['co2.ppm' '2']\n",
      " ['co2.ppm' '2']\n",
      " ['voc.ppm' '1']]\n"
     ]
    }
   ],
   "source": [
    "def repeat_keys(_n):\n",
    "    new_arr = np.empty([0,2], dtype=\"S32\")\n",
    "    \n",
    "    for counter, r in enumerate(_n):\n",
    "        new_arr = np.append(new_arr, np.repeat([_n[counter]], int(_n[counter,1]), axis=0), axis=0)\n",
    "    return new_arr\n",
    "    \n",
    "# print repeat_keys(n)\n",
    "print repeat_keys(n)"
   ]
  },
  {
   "cell_type": "code",
   "execution_count": 19,
   "metadata": {
    "collapsed": false
   },
   "outputs": [
    {
     "data": {
      "text/plain": [
       "(8, 4)"
      ]
     },
     "execution_count": 19,
     "metadata": {},
     "output_type": "execute_result"
    }
   ],
   "source": [
    "x.shape"
   ]
  },
  {
   "cell_type": "code",
   "execution_count": 31,
   "metadata": {
    "collapsed": false,
    "scrolled": true
   },
   "outputs": [
    {
     "data": {
      "text/plain": [
       "array([['Manifold_hot:20.2224'],\n",
       "       ['Manifold_cold1:18.1245'],\n",
       "       ['Manifold_cold2:17.1234'],\n",
       "       [\"5':83\"],\n",
       "       [\"10':72\"],\n",
       "       [\"5':221\"],\n",
       "       [\"10':268\"],\n",
       "       ['voc:50']], \n",
       "      dtype='|S128')"
      ]
     },
     "execution_count": 31,
     "metadata": {},
     "output_type": "execute_result"
    }
   ],
   "source": [
    "# will pass the event and the data\n",
    "def interpret_result(key,values):\n",
    "    # instantiate a blank array\n",
    "    _x = np.empty([len(values),1], dtype='S128')\n",
    "    _x[:,0] = np.array(values)            \n",
    "    \n",
    "    return _x\n",
    "\n",
    "interpret_result_2(key,values)"
   ]
  },
  {
   "cell_type": "code",
   "execution_count": 21,
   "metadata": {
    "collapsed": false
   },
   "outputs": [],
   "source": [
    "def interpret_values(key, values):\n",
    "    z = interpret_result_2(key,values)\n",
    "    z = np.append(z, np.array(split_col(z, 0, \":\")).reshape([len(z),1]), axis=1 )\n",
    "    z[:,0] = np.array(split_col(z, 0, \":\", 0))\n",
    "    return z"
   ]
  },
  {
   "cell_type": "code",
   "execution_count": 22,
   "metadata": {
    "collapsed": false
   },
   "outputs": [
    {
     "data": {
      "text/plain": [
       "array([['Manifold_hot', '20.2224'],\n",
       "       ['Manifold_cold1', '18.1245'],\n",
       "       ['Manifold_cold2', '17.1234'],\n",
       "       [\"5'\", '83'],\n",
       "       [\"10'\", '72'],\n",
       "       [\"5'\", '221'],\n",
       "       [\"10'\", '268'],\n",
       "       ['voc', '50']], \n",
       "      dtype='|S128')"
      ]
     },
     "execution_count": 22,
     "metadata": {},
     "output_type": "execute_result"
    }
   ],
   "source": [
    "interpret_values(key, values)"
   ]
  },
  {
   "cell_type": "code",
   "execution_count": 23,
   "metadata": {
    "collapsed": false
   },
   "outputs": [
    {
     "data": {
      "text/plain": [
       "(4, 2)"
      ]
     },
     "execution_count": 23,
     "metadata": {},
     "output_type": "execute_result"
    }
   ],
   "source": [
    "l = []\n",
    "for k in key:\n",
    "    l.append(k.split(\",\"))\n",
    "\n",
    "n = np.array(l)\n",
    "n.shape"
   ]
  },
  {
   "cell_type": "code",
   "execution_count": 24,
   "metadata": {
    "collapsed": false
   },
   "outputs": [
    {
     "data": {
      "text/plain": [
       "array([['temp.c', '3'],\n",
       "       ['temp.c', '3'],\n",
       "       ['temp.c', '3'],\n",
       "       ['humidity', '2'],\n",
       "       ['humidity', '2'],\n",
       "       ['co2.ppm', '2'],\n",
       "       ['co2.ppm', '2'],\n",
       "       ['voc.ppm', '1']], \n",
       "      dtype='|S32')"
      ]
     },
     "execution_count": 24,
     "metadata": {},
     "output_type": "execute_result"
    }
   ],
   "source": [
    "repeat_keys(n)"
   ]
  },
  {
   "cell_type": "code",
   "execution_count": 28,
   "metadata": {
    "collapsed": false
   },
   "outputs": [],
   "source": [
    "def gen_key_arr(key, values):\n",
    "    _l = []\n",
    "    for _k in key:\n",
    "        _l.append(_k.split(\",\"))\n",
    "        _n = np.array(l)\n",
    "    \n",
    "    new_arr = np.empty([0,2], dtype=\"S32\")\n",
    "    \n",
    "    for counter, r in enumerate(_n):\n",
    "        new_arr = np.append(new_arr, np.repeat([_n[counter]], int(_n[counter,1]), axis=0), axis=0)\n",
    "    return new_arr\n"
   ]
  },
  {
   "cell_type": "code",
   "execution_count": 29,
   "metadata": {
    "collapsed": false
   },
   "outputs": [
    {
     "name": "stdout",
     "output_type": "stream",
     "text": [
      "10000 loops, best of 3: 120 µs per loop\n"
     ]
    }
   ],
   "source": [
    "%timeit np.append(interpret_values(key, values), gen_key_arr(key, values), axis=1)"
   ]
  },
  {
   "cell_type": "code",
   "execution_count": 30,
   "metadata": {
    "collapsed": false
   },
   "outputs": [
    {
     "data": {
      "text/plain": [
       "array([['Manifold_hot', '20.2224', 'temp.c', '3'],\n",
       "       ['Manifold_cold1', '18.1245', 'temp.c', '3'],\n",
       "       ['Manifold_cold2', '17.1234', 'temp.c', '3'],\n",
       "       [\"5'\", '83', 'humidity', '2'],\n",
       "       [\"10'\", '72', 'humidity', '2'],\n",
       "       [\"5'\", '221', 'co2.ppm', '2'],\n",
       "       [\"10'\", '268', 'co2.ppm', '2'],\n",
       "       ['voc', '50', 'voc.ppm', '1']], \n",
       "      dtype='|S128')"
      ]
     },
     "execution_count": 30,
     "metadata": {},
     "output_type": "execute_result"
    }
   ],
   "source": [
    "np.append(interpret_values(key, values), gen_key_arr(key, values), axis=1)"
   ]
  },
  {
   "cell_type": "code",
   "execution_count": null,
   "metadata": {
    "collapsed": true
   },
   "outputs": [],
   "source": []
  }
 ],
 "metadata": {
  "kernelspec": {
   "display_name": "Python 2",
   "language": "python",
   "name": "python2"
  },
  "language_info": {
   "codemirror_mode": {
    "name": "ipython",
    "version": 2
   },
   "file_extension": ".py",
   "mimetype": "text/x-python",
   "name": "python",
   "nbconvert_exporter": "python",
   "pygments_lexer": "ipython2",
   "version": "2.7.13"
  }
 },
 "nbformat": 4,
 "nbformat_minor": 2
}
